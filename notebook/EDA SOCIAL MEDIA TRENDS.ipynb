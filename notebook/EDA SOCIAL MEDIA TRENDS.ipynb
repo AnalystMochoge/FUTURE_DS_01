{
 "cells": [
  {
   "cell_type": "markdown",
   "metadata": {},
   "source": [
    "### Social Media Trend Analysis"
   ]
  },
  {
   "cell_type": "markdown",
   "metadata": {},
   "source": [
    "#### 1) Problem Statement"
   ]
  },
  {
   "cell_type": "markdown",
   "metadata": {},
   "source": [
    "The world is fast changing, social platforms are growing and becoming even popular than ever. Organizations are trying to leverage the information in these sites to their advantage. Through engagements in posts, likes, reactions and even public discussions.\n",
    "Therefore, understanding the sentiments shared across different platforms is fundamnetal to businesses, policy makers and organizations for them to make informed decisons.\n",
    "This project aims to develop a sentiment analysis model that categorizes social media posts as positive, negative, or neutral. By leveraging machine learning techniques and natural language processing (NLP), we will analyze sentiment trends across platforms, assess engagement metrics (likes, retweets), and identify key topics driving online conversations.\n",
    "Insights and findings from these trends will help inform consumer behavior, brand perception, and or emerging trends that will in the long run help businesses and organizations improve decision-making process, brand management and customer engagement."
   ]
  },
  {
   "cell_type": "markdown",
   "metadata": {},
   "source": [
    "#### 2) Data Collection"
   ]
  },
  {
   "cell_type": "markdown",
   "metadata": {},
   "source": [
    "* Data Collection - https://www.kaggle.com/datasets/kashishparmar02/social-media-sentiments-analysis-dataset/data \n",
    "* The data consists of 15 columns and 732 rows"
   ]
  },
  {
   "cell_type": "markdown",
   "metadata": {},
   "source": [
    "#### 2.1 Import Data and Required Packages\n",
    "\n",
    "**Importing Pandas, Numpy, Matplotlib, Seaborn and Warings Library.**"
   ]
  },
  {
   "cell_type": "code",
   "execution_count": 2,
   "metadata": {},
   "outputs": [],
   "source": [
    "import numpy as np\n",
    "import pandas as pd\n",
    "import seaborn as sns\n",
    "import matplotlib.pyplot as plt\n",
    "%matplotlib inline\n",
    "import warnings\n",
    "warnings.filterwarnings('ignore')"
   ]
  },
  {
   "cell_type": "markdown",
   "metadata": {},
   "source": [
    "Import the CSV Data as Pandas DataFrame"
   ]
  },
  {
   "cell_type": "code",
   "execution_count": 3,
   "metadata": {},
   "outputs": [],
   "source": [
    "df = pd.read_csv('data/sentimentdataset.csv')"
   ]
  },
  {
   "cell_type": "code",
   "execution_count": 4,
   "metadata": {},
   "outputs": [
    {
     "name": "stdout",
     "output_type": "stream",
     "text": [
      "<class 'pandas.core.frame.DataFrame'>\n",
      "RangeIndex: 732 entries, 0 to 731\n",
      "Data columns (total 15 columns):\n",
      " #   Column        Non-Null Count  Dtype  \n",
      "---  ------        --------------  -----  \n",
      " 0   Unnamed: 0.1  732 non-null    int64  \n",
      " 1   Unnamed: 0    732 non-null    int64  \n",
      " 2   Text          732 non-null    object \n",
      " 3   Sentiment     732 non-null    object \n",
      " 4   Timestamp     732 non-null    object \n",
      " 5   User          732 non-null    object \n",
      " 6   Platform      732 non-null    object \n",
      " 7   Hashtags      732 non-null    object \n",
      " 8   Retweets      732 non-null    float64\n",
      " 9   Likes         732 non-null    float64\n",
      " 10  Country       732 non-null    object \n",
      " 11  Year          732 non-null    int64  \n",
      " 12  Month         732 non-null    int64  \n",
      " 13  Day           732 non-null    int64  \n",
      " 14  Hour          732 non-null    int64  \n",
      "dtypes: float64(2), int64(6), object(7)\n",
      "memory usage: 85.9+ KB\n"
     ]
    },
    {
     "data": {
      "text/plain": [
       "(None,\n",
       "    Unnamed: 0.1  Unnamed: 0  \\\n",
       " 0             0           0   \n",
       " 1             1           1   \n",
       " 2             2           2   \n",
       " 3             3           3   \n",
       " 4             4           4   \n",
       " 5             5           5   \n",
       " 6             6           6   \n",
       " 7             7           7   \n",
       " 8             8           8   \n",
       " 9             9           9   \n",
       " \n",
       "                                                 Text    Sentiment  \\\n",
       " 0   Enjoying a beautiful day at the park!        ...   Positive     \n",
       " 1   Traffic was terrible this morning.           ...   Negative     \n",
       " 2   Just finished an amazing workout! 💪          ...   Positive     \n",
       " 3   Excited about the upcoming weekend getaway!  ...   Positive     \n",
       " 4   Trying out a new recipe for dinner tonight.  ...   Neutral      \n",
       " 5   Feeling grateful for the little things in lif...   Positive     \n",
       " 6   Rainy days call for cozy blankets and hot coc...   Positive     \n",
       " 7   The new movie release is a must-watch!       ...   Positive     \n",
       " 8   Political discussions heating up on the timel...   Negative     \n",
       " 9   Missing summer vibes and beach days.         ...   Neutral      \n",
       " \n",
       "              Timestamp            User     Platform  \\\n",
       " 0  2023-01-15 12:30:00   User123          Twitter     \n",
       " 1  2023-01-15 08:45:00   CommuterX        Twitter     \n",
       " 2  2023-01-15 15:45:00   FitnessFan      Instagram    \n",
       " 3  2023-01-15 18:20:00   AdventureX       Facebook    \n",
       " 4  2023-01-15 19:55:00   ChefCook        Instagram    \n",
       " 5  2023-01-16 09:10:00   GratitudeNow     Twitter     \n",
       " 6  2023-01-16 14:45:00   RainyDays        Facebook    \n",
       " 7  2023-01-16 19:30:00   MovieBuff       Instagram    \n",
       " 8  2023-01-17 08:00:00   DebateTalk       Twitter     \n",
       " 9  2023-01-17 12:20:00   BeachLover       Facebook    \n",
       " \n",
       "                                      Hashtags  Retweets  Likes       Country  \\\n",
       " 0   #Nature #Park                                  15.0   30.0     USA         \n",
       " 1   #Traffic #Morning                               5.0   10.0     Canada      \n",
       " 2   #Fitness #Workout                              20.0   40.0   USA           \n",
       " 3   #Travel #Adventure                              8.0   15.0     UK          \n",
       " 4   #Cooking #Food                                 12.0   25.0    Australia    \n",
       " 5     #Gratitude #PositiveVibes                    25.0   50.0     India       \n",
       " 6   #RainyDays #Cozy                               10.0   20.0     Canada      \n",
       " 7    #MovieNight #MustWatch                        15.0   30.0       USA       \n",
       " 8    #Politics #Debate                             30.0   60.0     USA         \n",
       " 9    #Summer #BeachDays                            18.0   35.0    Australia    \n",
       " \n",
       "    Year  Month  Day  Hour  \n",
       " 0  2023      1   15    12  \n",
       " 1  2023      1   15     8  \n",
       " 2  2023      1   15    15  \n",
       " 3  2023      1   15    18  \n",
       " 4  2023      1   15    19  \n",
       " 5  2023      1   16     9  \n",
       " 6  2023      1   16    14  \n",
       " 7  2023      1   16    19  \n",
       " 8  2023      1   17     8  \n",
       " 9  2023      1   17    12  )"
      ]
     },
     "execution_count": 4,
     "metadata": {},
     "output_type": "execute_result"
    }
   ],
   "source": [
    "df.info(), df.head(10)"
   ]
  },
  {
   "cell_type": "markdown",
   "metadata": {},
   "source": [
    "2.2 Dataset information"
   ]
  },
  {
   "cell_type": "markdown",
   "metadata": {},
   "source": [
    "This dataset contains 732 entries/rows and 15 columns.Key columns include:\n",
    "* **Text**: The social media post.\n",
    "\n",
    "* **Sentiment**: Labeled as Positive, Negative, or Neutral.\n",
    "\n",
    "* **Timestamp**: Date and time of the post.\n",
    "\n",
    "* **User**: The account that posted.\n",
    "\n",
    "* **Platform**: Source (Twitter, Facebook, Instagram, etc.).\n",
    "\n",
    "* **Hashtags**: Associated hashtags.\n",
    "\n",
    "* **Retweets & Likes**: Engagement metrics.\n",
    "\n",
    "* **Country**: Origin of the post.\n",
    "\n",
    "* **Year, Month, Day, Hour**: Date components."
   ]
  },
  {
   "cell_type": "markdown",
   "metadata": {},
   "source": [
    "#### 3. Data Checks to perform"
   ]
  },
  {
   "cell_type": "markdown",
   "metadata": {},
   "source": [
    "* Check Missing values\n",
    "* Check Duplicates\n",
    "* Check data type\n",
    "* Check the number of unique values of each column"
   ]
  },
  {
   "cell_type": "code",
   "execution_count": 5,
   "metadata": {},
   "outputs": [
    {
     "data": {
      "text/plain": [
       "Unnamed: 0.1    0\n",
       "Unnamed: 0      0\n",
       "Text            0\n",
       "Sentiment       0\n",
       "Timestamp       0\n",
       "User            0\n",
       "Platform        0\n",
       "Hashtags        0\n",
       "Retweets        0\n",
       "Likes           0\n",
       "Country         0\n",
       "Year            0\n",
       "Month           0\n",
       "Day             0\n",
       "Hour            0\n",
       "dtype: int64"
      ]
     },
     "execution_count": 5,
     "metadata": {},
     "output_type": "execute_result"
    }
   ],
   "source": [
    "#Checking for missing values\n",
    "df.isnull().sum()"
   ]
  },
  {
   "cell_type": "markdown",
   "metadata": {},
   "source": [
    "**Missing Values**: No missing values in any column."
   ]
  },
  {
   "cell_type": "code",
   "execution_count": 6,
   "metadata": {},
   "outputs": [
    {
     "data": {
      "text/plain": [
       "0"
      ]
     },
     "execution_count": 6,
     "metadata": {},
     "output_type": "execute_result"
    }
   ],
   "source": [
    "#Checking for duplicates\n",
    "df.duplicated().sum()"
   ]
  },
  {
   "cell_type": "markdown",
   "metadata": {},
   "source": [
    "**Duplicate Entries**: No duplicate rows found."
   ]
  },
  {
   "cell_type": "code",
   "execution_count": 7,
   "metadata": {},
   "outputs": [
    {
     "data": {
      "text/plain": [
       "Unnamed: 0.1      int64\n",
       "Unnamed: 0        int64\n",
       "Text             object\n",
       "Sentiment        object\n",
       "Timestamp        object\n",
       "User             object\n",
       "Platform         object\n",
       "Hashtags         object\n",
       "Retweets        float64\n",
       "Likes           float64\n",
       "Country          object\n",
       "Year              int64\n",
       "Month             int64\n",
       "Day               int64\n",
       "Hour              int64\n",
       "dtype: object"
      ]
     },
     "execution_count": 7,
     "metadata": {},
     "output_type": "execute_result"
    }
   ],
   "source": [
    "#Checking the data types in in the dataset\n",
    "df.dtypes"
   ]
  },
  {
   "cell_type": "code",
   "execution_count": 8,
   "metadata": {},
   "outputs": [],
   "source": [
    "#Dropping unncessary columns\n",
    "df_cleaned=df.drop(columns=[\"Unnamed: 0.1\", \"Unnamed: 0\"],errors=\"ignore\")\n"
   ]
  },
  {
   "cell_type": "code",
   "execution_count": 9,
   "metadata": {},
   "outputs": [
    {
     "data": {
      "text/plain": [
       "array([' Positive  ', ' Negative  ', ' Neutral   ', ' Anger        ',\n",
       "       ' Fear         ', ' Sadness      ', ' Disgust      ',\n",
       "       ' Happiness    ', ' Joy          ', ' Love         ',\n",
       "       ' Amusement    ', ' Enjoyment    ', ' Admiration   ',\n",
       "       ' Affection    ', ' Awe          ', ' Disappointed ',\n",
       "       ' Surprise     ', ' Acceptance   ', ' Adoration    ',\n",
       "       ' Anticipation ', ' Bitter       ', ' Calmness     ',\n",
       "       ' Confusion    ', ' Excitement   ', ' Kind         ',\n",
       "       ' Pride        ', ' Shame        ', ' Confusion ', ' Excitement ',\n",
       "       ' Shame ', ' Elation       ', ' Euphoria      ', ' Contentment   ',\n",
       "       ' Serenity      ', ' Gratitude     ', ' Hope          ',\n",
       "       ' Empowerment   ', ' Compassion    ', ' Tenderness    ',\n",
       "       ' Arousal       ', ' Enthusiasm    ', ' Fulfillment  ',\n",
       "       ' Reverence     ', ' Compassion', ' Fulfillment   ', ' Reverence ',\n",
       "       ' Elation   ', ' Despair         ', ' Grief           ',\n",
       "       ' Loneliness      ', ' Jealousy        ', ' Resentment      ',\n",
       "       ' Frustration     ', ' Boredom         ', ' Anxiety         ',\n",
       "       ' Intimidation    ', ' Helplessness    ', ' Envy            ',\n",
       "       ' Regret         ', ' Disgust         ', ' Despair      ',\n",
       "       ' Loneliness ', ' Frustration ', ' Anxiety   ', ' Intimidation ',\n",
       "       ' Helplessness ', ' Jealousy    ', ' Curiosity       ',\n",
       "       ' Indifference    ', ' Confusion       ', ' Numbness        ',\n",
       "       ' Melancholy      ', ' Nostalgia       ', ' Ambivalence     ',\n",
       "       ' Acceptance      ', ' Determination   ', ' Serenity        ',\n",
       "       ' Numbness ', ' Zest ', ' Contentment ', ' Hopeful ', ' Proud ',\n",
       "       ' Grateful ', ' Empathetic ', ' Compassionate ', ' Playful ',\n",
       "       ' Free-spirited ', ' Inspired ', ' Confident ', ' Serenity ',\n",
       "       ' Curiosity ', ' Ambivalence ', ' Despair ', ' Bitterness ',\n",
       "       ' Yearning ', ' Fearful ', ' Apprehensive ', ' Overwhelmed ',\n",
       "       ' Jealous ', ' Devastated ', ' Frustrated ', ' Envious ',\n",
       "       ' Dismissive ', ' Awe           ', ' Determination ',\n",
       "       ' Nostalgia      ', ' Thrill        ', ' Calmness      ',\n",
       "       ' Overwhelmed   ', ' Gratitude   ', ' Bittersweet ',\n",
       "       ' Curiosity     ', ' Admiration    ', ' Overjoyed     ',\n",
       "       ' Inspiration   ', ' Motivation    ', ' Amusement     ',\n",
       "       ' Contemplation ', ' JoyfulReunion ', ' Excitement    ',\n",
       "       ' Satisfaction  ', ' Blessed       ', ' Anticipation  ',\n",
       "       ' Reflection    ', ' Nostalgia     ', ' Appreciation  ',\n",
       "       ' Confidence    ', ' Surprise      ', ' Accomplishment ',\n",
       "       ' Wonderment    ', ' Optimism      ', ' Pride         ',\n",
       "       ' Happiness     ', ' Curiosity   ', ' Enchantment   ',\n",
       "       ' Intrigue      ', ' PlayfulJoy    ', ' Mindfulness   ',\n",
       "       ' DreamChaser   ', ' Elegance ', ' Whimsy        ', ' Pensive ',\n",
       "       ' Thrill      ', ' Harmony    ', ' Creativity   ', ' Radiance    ',\n",
       "       ' Wonder     ', ' Rejuvenation ', ' Inspiration ',\n",
       "       ' Coziness     ', ' Gratitude  ', ' Adventure ', ' Euphoria   ',\n",
       "       ' Awe    ', ' Melodic       ', ' FestiveJoy    ',\n",
       "       ' InnerJourney  ', ' Freedom       ', ' Dazzle        ',\n",
       "       ' Adrenaline     ', ' Harmony       ', ' ArtisticBurst ',\n",
       "       ' Radiance      ', ' Wonder       ', ' Inspiration  ',\n",
       "       ' CulinaryOdyssey ', ' Euphoria     ', ' Curiosity  ',\n",
       "       ' Resilience   ', ' Immersion ', ' Nostalgia ', ' Spark        ',\n",
       "       ' Gratitude    ', ' Marvel       ', ' Serenity   ',\n",
       "       ' Heartbreak    ', ' Loneliness    ', ' Grief      ',\n",
       "       ' Despair   ', ' Betrayal      ', ' Suffering ',\n",
       "       ' EmotionalStorm ', ' Regret        ', ' Isolation ',\n",
       "       ' Disappointment ', ' LostLove ', ' Melancholy ', ' Exhaustion ',\n",
       "       ' Sorrow      ', ' Darkness     ', ' Desperation ', ' Ruins      ',\n",
       "       ' Desolation ', ' Regret ', ' Grief ', ' Heartbreak ',\n",
       "       ' Betrayal ', ' Resilience ', ' Sorrow ', ' Loss ', ' Heartache ',\n",
       "       ' Solitude ', ' Joy ', ' Happiness ', ' Enthusiasm ',\n",
       "       ' Gratitude ', ' Positivity ', ' Kindness ', ' Friendship ',\n",
       "       ' Love ', ' Surprise ', ' Success ', ' Thrill ', ' Reflection ',\n",
       "       ' Enchantment ', ' Exploration ', ' Awe ', ' Amazement ',\n",
       "       ' Romance ', ' Captivation ', ' Wonder ', ' Tranquility ',\n",
       "       ' Grandeur ', ' Emotion ', ' Energy ', ' Celebration ', ' Charm ',\n",
       "       ' Ecstasy ', ' Hope ', ' Creativity ', ' Colorful ', ' Pride ',\n",
       "       ' Hypnotic ', ' Connection ', ' Iconic ', ' Euphoria ',\n",
       "       ' Journey ', ' Engagement ', ' Touched ', ' Suspense ',\n",
       "       ' Satisfaction ', ' Admiration ', ' Triumph ', ' Heartwarming ',\n",
       "       ' Obstacle ', ' Sympathy ', ' Pressure ', ' Renewed Effort ',\n",
       "       ' Miscalculation ', ' Challenge ', ' Solace ', ' Breakthrough ',\n",
       "       ' Harmony ', ' Joy in Baking ', ' Envisioning History ',\n",
       "       ' Imagination ', ' Vibrancy ', ' Mesmerizing ',\n",
       "       ' Culinary Adventure ', ' Winter Magic ', ' Thrilling Journey ',\n",
       "       \" Nature's Beauty \", ' Celestial Wonder ',\n",
       "       ' Creative Inspiration ', ' Runway Creativity ',\n",
       "       \" Ocean's Freedom \", ' Whispers of the Past ', ' Boredom ',\n",
       "       ' Indifference ', ' Disgust ', ' Relief ', ' Positive ',\n",
       "       ' Embarrassed ', ' Mischievous ', ' Sad ', ' Hate ', ' Bad ',\n",
       "       ' Neutral ', ' Happy '], dtype=object)"
      ]
     },
     "execution_count": 9,
     "metadata": {},
     "output_type": "execute_result"
    }
   ],
   "source": [
    "#Checking unique sentiment values\n",
    "unique_sentiments=df_cleaned[\"Sentiment\"].unique()\n",
    "unique_sentiments\n"
   ]
  },
  {
   "cell_type": "markdown",
   "metadata": {},
   "source": [
    "**Total unique sentiment labels**: 279\n",
    "\n",
    "**Unique Sentiment Labels**: The dataset contains a mix of standard sentiment categories (*Positive, Negative, Neutral*) and many other emotion labels (*Joy, Surprise, Sadness, Love, Regret, etc.*). Some labels also have trailing spaces."
   ]
  },
  {
   "cell_type": "markdown",
   "metadata": {},
   "source": [
    "#### **Clean Sentiment Labels**\n",
    "\n",
    "Standardize labels by removing extra spaces and grouping similar sentiments."
   ]
  },
  {
   "cell_type": "code",
   "execution_count": 10,
   "metadata": {},
   "outputs": [
    {
     "data": {
      "text/plain": [
       "Sentiment\n",
       "Other       508\n",
       "Positive    126\n",
       "Neutral      50\n",
       "Negative     48\n",
       "Name: count, dtype: int64"
      ]
     },
     "execution_count": 10,
     "metadata": {},
     "output_type": "execute_result"
    }
   ],
   "source": [
    "#Clean sentiment labesl by stripping extra spaces\n",
    "df_cleaned[\"Sentiment\"] = df_cleaned[\"Sentiment\"].str.strip()\n",
    "\n",
    "#Standardize sentiment labeles\n",
    "positive_labels = {\"Joy\", \"Happiness\", \"Excitement\", \"Love\", \"Admiration\", \"Gratitude\", \"Pride\", \"Euphoria\", \"Optimism\"}\n",
    "negative_labels = {\"Sadness\", \"Anger\", \"Fear\", \"Disgust\", \"Regret\", \"Loneliness\", \"Frustration\", \"Betrayal\", \"Despair\"}\n",
    "neutral_labels = {\"Neutral\", \"Indifference\", \"Curiosity\", \"Surprise\", \"Reflection\"}\n",
    "\n",
    "def categorize_sentiment(sentiment):\n",
    "    if sentiment in positive_labels:\n",
    "        return \"Positive\"\n",
    "    elif sentiment in negative_labels:\n",
    "        return \"Negative\"\n",
    "    elif sentiment in neutral_labels:\n",
    "        return \"Neutral\"\n",
    "    return \"Other\" #For any sentiment that is not categorized\n",
    "\n",
    "\n",
    "df_cleaned[\"Sentiment\"] = df_cleaned[\"Sentiment\"].apply(categorize_sentiment)\n",
    "\n",
    "#Display the updated sentiment distribution\n",
    "df_cleaned[\"Sentiment\"].value_counts()"
   ]
  },
  {
   "cell_type": "markdown",
   "metadata": {},
   "source": [
    "The \"Other\" category has too many entries. Further refining needs to be done.\n",
    "\n",
    "First, we'll use a pretrained model TextBlob, then later we can consider building a model using our own dataset."
   ]
  },
  {
   "cell_type": "markdown",
   "metadata": {},
   "source": [
    "#### Using TextBlob to categorize our sentiments"
   ]
  },
  {
   "cell_type": "code",
   "execution_count": 11,
   "metadata": {},
   "outputs": [
    {
     "data": {
      "text/plain": [
       "TextBlob_Sentiment\n",
       "Neutral     324\n",
       "Positive    282\n",
       "Negaive     126\n",
       "Name: count, dtype: int64"
      ]
     },
     "execution_count": 11,
     "metadata": {},
     "output_type": "execute_result"
    }
   ],
   "source": [
    "from textblob import  TextBlob\n",
    "\n",
    "def get_textblob_sentiments(text):\n",
    "    score = TextBlob(str(text)).sentiment.polarity\n",
    "    if score > 0:\n",
    "        return \"Positive\"\n",
    "    elif score < 0 :\n",
    "        return \"Negaive\"\n",
    "    else:\n",
    "        return \"Neutral\"\n",
    "\n",
    "#Apply the sentiment classification\n",
    "df_cleaned[\"TextBlob_Sentiment\"] = df_cleaned[\"Text\"].apply(get_textblob_sentiments)\n",
    "\n",
    "#Display sentiment distribution using TextBlob\n",
    "df_cleaned[\"TextBlob_Sentiment\"].value_counts()\n",
    "\n",
    "#df_cleaned  "
   ]
  },
  {
   "cell_type": "code",
   "execution_count": 12,
   "metadata": {},
   "outputs": [
    {
     "data": {
      "text/html": [
       "<div>\n",
       "<style scoped>\n",
       "    .dataframe tbody tr th:only-of-type {\n",
       "        vertical-align: middle;\n",
       "    }\n",
       "\n",
       "    .dataframe tbody tr th {\n",
       "        vertical-align: top;\n",
       "    }\n",
       "\n",
       "    .dataframe thead th {\n",
       "        text-align: right;\n",
       "    }\n",
       "</style>\n",
       "<table border=\"1\" class=\"dataframe\">\n",
       "  <thead>\n",
       "    <tr style=\"text-align: right;\">\n",
       "      <th></th>\n",
       "      <th>Text</th>\n",
       "      <th>Sentiment</th>\n",
       "      <th>Timestamp</th>\n",
       "      <th>User</th>\n",
       "      <th>Platform</th>\n",
       "      <th>Hashtags</th>\n",
       "      <th>Retweets</th>\n",
       "      <th>Likes</th>\n",
       "      <th>Country</th>\n",
       "      <th>Year</th>\n",
       "      <th>Month</th>\n",
       "      <th>Day</th>\n",
       "      <th>Hour</th>\n",
       "      <th>TextBlob_Sentiment</th>\n",
       "    </tr>\n",
       "  </thead>\n",
       "  <tbody>\n",
       "    <tr>\n",
       "      <th>0</th>\n",
       "      <td>Enjoying a beautiful day at the park!        ...</td>\n",
       "      <td>Other</td>\n",
       "      <td>2023-01-15 12:30:00</td>\n",
       "      <td>User123</td>\n",
       "      <td>Twitter</td>\n",
       "      <td>#Nature #Park</td>\n",
       "      <td>15.0</td>\n",
       "      <td>30.0</td>\n",
       "      <td>USA</td>\n",
       "      <td>2023</td>\n",
       "      <td>1</td>\n",
       "      <td>15</td>\n",
       "      <td>12</td>\n",
       "      <td>Positive</td>\n",
       "    </tr>\n",
       "    <tr>\n",
       "      <th>1</th>\n",
       "      <td>Traffic was terrible this morning.           ...</td>\n",
       "      <td>Other</td>\n",
       "      <td>2023-01-15 08:45:00</td>\n",
       "      <td>CommuterX</td>\n",
       "      <td>Twitter</td>\n",
       "      <td>#Traffic #Morning</td>\n",
       "      <td>5.0</td>\n",
       "      <td>10.0</td>\n",
       "      <td>Canada</td>\n",
       "      <td>2023</td>\n",
       "      <td>1</td>\n",
       "      <td>15</td>\n",
       "      <td>8</td>\n",
       "      <td>Negaive</td>\n",
       "    </tr>\n",
       "    <tr>\n",
       "      <th>2</th>\n",
       "      <td>Just finished an amazing workout! 💪          ...</td>\n",
       "      <td>Other</td>\n",
       "      <td>2023-01-15 15:45:00</td>\n",
       "      <td>FitnessFan</td>\n",
       "      <td>Instagram</td>\n",
       "      <td>#Fitness #Workout</td>\n",
       "      <td>20.0</td>\n",
       "      <td>40.0</td>\n",
       "      <td>USA</td>\n",
       "      <td>2023</td>\n",
       "      <td>1</td>\n",
       "      <td>15</td>\n",
       "      <td>15</td>\n",
       "      <td>Positive</td>\n",
       "    </tr>\n",
       "    <tr>\n",
       "      <th>3</th>\n",
       "      <td>Excited about the upcoming weekend getaway!  ...</td>\n",
       "      <td>Other</td>\n",
       "      <td>2023-01-15 18:20:00</td>\n",
       "      <td>AdventureX</td>\n",
       "      <td>Facebook</td>\n",
       "      <td>#Travel #Adventure</td>\n",
       "      <td>8.0</td>\n",
       "      <td>15.0</td>\n",
       "      <td>UK</td>\n",
       "      <td>2023</td>\n",
       "      <td>1</td>\n",
       "      <td>15</td>\n",
       "      <td>18</td>\n",
       "      <td>Positive</td>\n",
       "    </tr>\n",
       "    <tr>\n",
       "      <th>4</th>\n",
       "      <td>Trying out a new recipe for dinner tonight.  ...</td>\n",
       "      <td>Neutral</td>\n",
       "      <td>2023-01-15 19:55:00</td>\n",
       "      <td>ChefCook</td>\n",
       "      <td>Instagram</td>\n",
       "      <td>#Cooking #Food</td>\n",
       "      <td>12.0</td>\n",
       "      <td>25.0</td>\n",
       "      <td>Australia</td>\n",
       "      <td>2023</td>\n",
       "      <td>1</td>\n",
       "      <td>15</td>\n",
       "      <td>19</td>\n",
       "      <td>Positive</td>\n",
       "    </tr>\n",
       "    <tr>\n",
       "      <th>...</th>\n",
       "      <td>...</td>\n",
       "      <td>...</td>\n",
       "      <td>...</td>\n",
       "      <td>...</td>\n",
       "      <td>...</td>\n",
       "      <td>...</td>\n",
       "      <td>...</td>\n",
       "      <td>...</td>\n",
       "      <td>...</td>\n",
       "      <td>...</td>\n",
       "      <td>...</td>\n",
       "      <td>...</td>\n",
       "      <td>...</td>\n",
       "      <td>...</td>\n",
       "    </tr>\n",
       "    <tr>\n",
       "      <th>727</th>\n",
       "      <td>Collaborating on a science project that receiv...</td>\n",
       "      <td>Other</td>\n",
       "      <td>2017-08-18 18:20:00</td>\n",
       "      <td>ScienceProjectSuccessHighSchool</td>\n",
       "      <td>Facebook</td>\n",
       "      <td>#ScienceFairWinner #HighSchoolScience</td>\n",
       "      <td>20.0</td>\n",
       "      <td>39.0</td>\n",
       "      <td>UK</td>\n",
       "      <td>2017</td>\n",
       "      <td>8</td>\n",
       "      <td>18</td>\n",
       "      <td>18</td>\n",
       "      <td>Positive</td>\n",
       "    </tr>\n",
       "    <tr>\n",
       "      <th>728</th>\n",
       "      <td>Attending a surprise birthday party organized ...</td>\n",
       "      <td>Other</td>\n",
       "      <td>2018-06-22 14:15:00</td>\n",
       "      <td>BirthdayPartyJoyHighSchool</td>\n",
       "      <td>Instagram</td>\n",
       "      <td>#SurpriseCelebration #HighSchoolFriendship</td>\n",
       "      <td>25.0</td>\n",
       "      <td>48.0</td>\n",
       "      <td>USA</td>\n",
       "      <td>2018</td>\n",
       "      <td>6</td>\n",
       "      <td>22</td>\n",
       "      <td>14</td>\n",
       "      <td>Positive</td>\n",
       "    </tr>\n",
       "    <tr>\n",
       "      <th>729</th>\n",
       "      <td>Successfully fundraising for a school charity ...</td>\n",
       "      <td>Other</td>\n",
       "      <td>2019-04-05 17:30:00</td>\n",
       "      <td>CharityFundraisingTriumphHighSchool</td>\n",
       "      <td>Twitter</td>\n",
       "      <td>#CommunityGiving #HighSchoolPhilanthropy</td>\n",
       "      <td>22.0</td>\n",
       "      <td>42.0</td>\n",
       "      <td>Canada</td>\n",
       "      <td>2019</td>\n",
       "      <td>4</td>\n",
       "      <td>5</td>\n",
       "      <td>17</td>\n",
       "      <td>Positive</td>\n",
       "    </tr>\n",
       "    <tr>\n",
       "      <th>730</th>\n",
       "      <td>Participating in a multicultural festival, cel...</td>\n",
       "      <td>Other</td>\n",
       "      <td>2020-02-29 20:45:00</td>\n",
       "      <td>MulticulturalFestivalJoyHighSchool</td>\n",
       "      <td>Facebook</td>\n",
       "      <td>#CulturalCelebration #HighSchoolUnity</td>\n",
       "      <td>21.0</td>\n",
       "      <td>43.0</td>\n",
       "      <td>UK</td>\n",
       "      <td>2020</td>\n",
       "      <td>2</td>\n",
       "      <td>29</td>\n",
       "      <td>20</td>\n",
       "      <td>Positive</td>\n",
       "    </tr>\n",
       "    <tr>\n",
       "      <th>731</th>\n",
       "      <td>Organizing a virtual talent show during challe...</td>\n",
       "      <td>Other</td>\n",
       "      <td>2020-11-15 15:15:00</td>\n",
       "      <td>VirtualTalentShowSuccessHighSchool</td>\n",
       "      <td>Instagram</td>\n",
       "      <td>#VirtualEntertainment #HighSchoolPositivity</td>\n",
       "      <td>24.0</td>\n",
       "      <td>47.0</td>\n",
       "      <td>USA</td>\n",
       "      <td>2020</td>\n",
       "      <td>11</td>\n",
       "      <td>15</td>\n",
       "      <td>15</td>\n",
       "      <td>Positive</td>\n",
       "    </tr>\n",
       "  </tbody>\n",
       "</table>\n",
       "<p>732 rows × 14 columns</p>\n",
       "</div>"
      ],
      "text/plain": [
       "                                                  Text Sentiment  \\\n",
       "0     Enjoying a beautiful day at the park!        ...     Other   \n",
       "1     Traffic was terrible this morning.           ...     Other   \n",
       "2     Just finished an amazing workout! 💪          ...     Other   \n",
       "3     Excited about the upcoming weekend getaway!  ...     Other   \n",
       "4     Trying out a new recipe for dinner tonight.  ...   Neutral   \n",
       "..                                                 ...       ...   \n",
       "727  Collaborating on a science project that receiv...     Other   \n",
       "728  Attending a surprise birthday party organized ...     Other   \n",
       "729  Successfully fundraising for a school charity ...     Other   \n",
       "730  Participating in a multicultural festival, cel...     Other   \n",
       "731  Organizing a virtual talent show during challe...     Other   \n",
       "\n",
       "               Timestamp                                   User     Platform  \\\n",
       "0    2023-01-15 12:30:00                          User123          Twitter     \n",
       "1    2023-01-15 08:45:00                          CommuterX        Twitter     \n",
       "2    2023-01-15 15:45:00                          FitnessFan      Instagram    \n",
       "3    2023-01-15 18:20:00                          AdventureX       Facebook    \n",
       "4    2023-01-15 19:55:00                          ChefCook        Instagram    \n",
       "..                   ...                                    ...          ...   \n",
       "727  2017-08-18 18:20:00       ScienceProjectSuccessHighSchool     Facebook    \n",
       "728  2018-06-22 14:15:00            BirthdayPartyJoyHighSchool    Instagram    \n",
       "729  2019-04-05 17:30:00   CharityFundraisingTriumphHighSchool      Twitter    \n",
       "730  2020-02-29 20:45:00    MulticulturalFestivalJoyHighSchool     Facebook    \n",
       "731  2020-11-15 15:15:00    VirtualTalentShowSuccessHighSchool    Instagram    \n",
       "\n",
       "                                          Hashtags  Retweets  Likes  \\\n",
       "0        #Nature #Park                                  15.0   30.0   \n",
       "1        #Traffic #Morning                               5.0   10.0   \n",
       "2        #Fitness #Workout                              20.0   40.0   \n",
       "3        #Travel #Adventure                              8.0   15.0   \n",
       "4        #Cooking #Food                                 12.0   25.0   \n",
       "..                                             ...       ...    ...   \n",
       "727         #ScienceFairWinner #HighSchoolScience       20.0   39.0   \n",
       "728    #SurpriseCelebration #HighSchoolFriendship       25.0   48.0   \n",
       "729      #CommunityGiving #HighSchoolPhilanthropy       22.0   42.0   \n",
       "730         #CulturalCelebration #HighSchoolUnity       21.0   43.0   \n",
       "731   #VirtualEntertainment #HighSchoolPositivity       24.0   47.0   \n",
       "\n",
       "          Country  Year  Month  Day  Hour TextBlob_Sentiment  \n",
       "0       USA        2023      1   15    12           Positive  \n",
       "1       Canada     2023      1   15     8            Negaive  \n",
       "2     USA          2023      1   15    15           Positive  \n",
       "3       UK         2023      1   15    18           Positive  \n",
       "4      Australia   2023      1   15    19           Positive  \n",
       "..            ...   ...    ...  ...   ...                ...  \n",
       "727            UK  2017      8   18    18           Positive  \n",
       "728           USA  2018      6   22    14           Positive  \n",
       "729        Canada  2019      4    5    17           Positive  \n",
       "730            UK  2020      2   29    20           Positive  \n",
       "731           USA  2020     11   15    15           Positive  \n",
       "\n",
       "[732 rows x 14 columns]"
      ]
     },
     "execution_count": 12,
     "metadata": {},
     "output_type": "execute_result"
    }
   ],
   "source": [
    "df_cleaned"
   ]
  },
  {
   "cell_type": "code",
   "execution_count": 13,
   "metadata": {},
   "outputs": [],
   "source": [
    "df_clean1=df_cleaned.drop(columns=\"Sentiment\")"
   ]
  },
  {
   "cell_type": "code",
   "execution_count": 15,
   "metadata": {},
   "outputs": [],
   "source": [
    " df_clean1.to_excel(\"Social_Sentiments.xlsx\")\n"
   ]
  }
 ],
 "metadata": {
  "kernelspec": {
   "display_name": "Python 3",
   "language": "python",
   "name": "python3"
  },
  "language_info": {
   "codemirror_mode": {
    "name": "ipython",
    "version": 3
   },
   "file_extension": ".py",
   "mimetype": "text/x-python",
   "name": "python",
   "nbconvert_exporter": "python",
   "pygments_lexer": "ipython3",
   "version": "3.8.20"
  }
 },
 "nbformat": 4,
 "nbformat_minor": 2
}
